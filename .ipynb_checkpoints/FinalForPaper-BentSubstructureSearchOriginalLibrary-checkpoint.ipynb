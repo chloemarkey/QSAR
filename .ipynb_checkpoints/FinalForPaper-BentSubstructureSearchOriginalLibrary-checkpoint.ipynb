{
 "cells": [
  {
   "cell_type": "code",
   "execution_count": 1,
   "metadata": {},
   "outputs": [],
   "source": [
    "## Import necessary packages\n",
    "import rdkit\n",
    "from rdkit import Chem\n",
    "import pandas as pd\n",
    "import rdkit.Chem.rdMolDescriptors\n",
    "import rdkit.Chem.rdchem\n",
    "from rdkit.Chem.Draw import IPythonConsole"
   ]
  },
  {
   "cell_type": "code",
   "execution_count": 2,
   "metadata": {},
   "outputs": [],
   "source": [
    "## Function that assigns an atom ID to each atom in molecule\n",
    "def mol_with_atom_index( mol ):\n",
    "    atoms = mol.GetNumAtoms()\n",
    "    for idx in range( atoms ):\n",
    "        mol.GetAtomWithIdx( idx ).SetProp( 'molAtomMapNumber', str(mol.GetAtomWithIdx( idx ).GetIdx()))\n",
    "    return mol"
   ]
  },
  {
   "cell_type": "code",
   "execution_count": 3,
   "metadata": {},
   "outputs": [],
   "source": [
    "## Define the bent structural pattern\n",
    "patt = Chem.MolFromSmarts(\"[!R]~[R]~[R]~[!R]\")"
   ]
  },
  {
   "cell_type": "code",
   "execution_count": 4,
   "metadata": {},
   "outputs": [],
   "source": [
    "## Read the import file\n",
    "library = pd.read_csv(open('SMILES_nothiol.csv', 'r'))"
   ]
  },
  {
   "cell_type": "code",
   "execution_count": 5,
   "metadata": {},
   "outputs": [],
   "source": [
    "## Create empty list that will be used to check number of molecules with a bent substructure match\n",
    "matchList = []\n",
    "## Create empty list that indicates whether each molecule has a bent substructure match\n",
    "hasCShape = []"
   ]
  },
  {
   "cell_type": "code",
   "execution_count": 6,
   "metadata": {},
   "outputs": [],
   "source": [
    "## Iterate through input library to check each molecule for a bent substructure match\n",
    "for i in library.iterrows():\n",
    "    mol = Chem.MolFromSmiles(i[1]['SMILES No Disulfide, Uncorrected'])\n",
    "    \n",
    "    ## Index molcule and its bonds for substructure search\n",
    "    mol_with_atom_index(mol)\n",
    "    bond_inds = {str(sorted((bond.GetBeginAtomIdx(),bond.GetEndAtomIdx()))):bond.GetIdx() for bond in mol.GetBonds()}\n",
    "    \n",
    "    ## Search molecule for bent shape\n",
    "    matches = mol.GetSubstructMatches(patt)\n",
    "    \n",
    "    ## Create empty list to save substructure matches that meet further pattern criteria\n",
    "    final_matches = []\n",
    "    \n",
    "    ## Define amide substructure\n",
    "    patt2 = Chem.MolFromSmarts(\"[N]C=O\")\n",
    "    \n",
    "    ## Specify molecule without bent shapes as non-match\n",
    "    if len(matches) == 0:\n",
    "        hasCShape.append(False)\n",
    "    \n",
    "    ## Check molecule with bent shapes for other pattern criteria\n",
    "    else:\n",
    "        for match in matches:\n",
    "            ## Save bonds in substructure extending off ring\n",
    "            bond_idx_match1 = bond_inds[str(sorted((match[0],match[1])))]\n",
    "            bond_idx_match2 = bond_inds[str(sorted((match[2],match[3])))]\n",
    "            \n",
    "            ## Fragment molecule on bonds extending off ring\n",
    "            fragmentedMol = Chem.FragmentOnBonds(mol, (bond_idx_match1,bond_idx_match2))\n",
    "            fragments = Chem.rdmolops.GetMolFrags(fragmentedMol, asMols = True)\n",
    "    \n",
    "            ## Save the two fragments that do not contain the ring of the substructure in a list\n",
    "            listOfFrags = []\n",
    "            for frag in fragments:\n",
    "                fragIndices = []\n",
    "                for atom in frag.GetAtoms():\n",
    "                    fragIndices.append(atom.GetAtomMapNum())\n",
    "                if set(fragIndices).intersection(match[1:3]):\n",
    "                    fragContainingRing = frag\n",
    "                else:\n",
    "                    listOfFrags.append(frag)\n",
    "            \n",
    "            ## Check if one fragment contains an amide and no ring while other fragment contains at least one aromatic ring\n",
    "            frag1 = listOfFrags[0]\n",
    "            frag2 = listOfFrags[1]\n",
    "            if frag1.HasSubstructMatch(patt2) and Chem.rdMolDescriptors.CalcNumRings(frag1) == 0:\n",
    "                if Chem.rdMolDescriptors.CalcNumAromaticRings(frag2) >= 1:\n",
    "                    final_matches.append(True)\n",
    "            elif Chem.rdMolDescriptors.CalcNumAromaticRings(frag1) >= 1:\n",
    "                if frag2.HasSubstructMatch(patt2) and Chem.rdMolDescriptors.CalcNumRings(frag2) == 0:\n",
    "                    final_matches.append(True)\n",
    "         \n",
    "        ## Indicate if molecule has passed bent pattern requirements by sorting into lists\n",
    "        if len(final_matches) >= 1:\n",
    "            hasCShape.append(True)\n",
    "            matchList.append(True)\n",
    "        else:\n",
    "            hasCShape.append(False)    "
   ]
  },
  {
   "cell_type": "code",
   "execution_count": 7,
   "metadata": {},
   "outputs": [
    {
     "name": "stdout",
     "output_type": "stream",
     "text": [
      "45\n"
     ]
    }
   ],
   "source": [
    "## Check number of molecules matching bent pattern\n",
    "print(len(matchList))"
   ]
  },
  {
   "cell_type": "code",
   "execution_count": 8,
   "metadata": {},
   "outputs": [],
   "source": [
    "## Create new column in file indicating bent pattern match status\n",
    "library['BentMatch'] = hasCShape"
   ]
  },
  {
   "cell_type": "code",
   "execution_count": 9,
   "metadata": {},
   "outputs": [],
   "source": [
    "## Exports all input data plus new column to a csv file\n",
    "library.to_csv('BentShapeSubstructureFinalMatches.csv',index=False)"
   ]
  }
 ],
 "metadata": {
  "kernelspec": {
   "display_name": "Python 3",
   "language": "python",
   "name": "python3"
  },
  "language_info": {
   "codemirror_mode": {
    "name": "ipython",
    "version": 3
   },
   "file_extension": ".py",
   "mimetype": "text/x-python",
   "name": "python",
   "nbconvert_exporter": "python",
   "pygments_lexer": "ipython3",
   "version": "3.7.4"
  }
 },
 "nbformat": 4,
 "nbformat_minor": 2
}
