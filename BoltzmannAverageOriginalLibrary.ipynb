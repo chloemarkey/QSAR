{
 "cells": [
  {
   "cell_type": "code",
   "execution_count": 22,
   "metadata": {},
   "outputs": [],
   "source": [
    "## Import necessary packages\n",
    "import math\n",
    "import pandas as pd "
   ]
  },
  {
   "cell_type": "code",
   "execution_count": 23,
   "metadata": {},
   "outputs": [],
   "source": [
    "## Read import file\n",
    "file = open('191018_med25lib_smiles_wash_WU.csv')\n",
    "dat = file.readlines()"
   ]
  },
  {
   "cell_type": "code",
   "execution_count": 24,
   "metadata": {},
   "outputs": [],
   "source": [
    "## Create empty list to store descriptor names\n",
    "descNames = []\n",
    "\n",
    "## Add contents of data header line to descriptor names list\n",
    "headerLine = dat[0].split(',')\n",
    "for colName in range(len(headerLine)):\n",
    "    descNames.append(headerLine[colName]) \n",
    "\n",
    "## Specify index of first MOE descriptor in names list\n",
    "firstDesc = descNames.index('AM1_dipole')"
   ]
  },
  {
   "cell_type": "code",
   "execution_count": 25,
   "metadata": {},
   "outputs": [],
   "source": [
    "## Create a dictionary for each molecule \n",
    "\n",
    "## Dictionary assigns each molecule a database ID and saves an entry for each conformer containing  \n",
    "## corresponding descriptor values\n",
    "\n",
    "d = {}\n",
    "for line in dat[1:]:\n",
    "    line = line.split(',')\n",
    "    if '' in line:\n",
    "        continue\n",
    "    else:\n",
    "        databaseID = line[8]\n",
    "        dE = float(line[3])\n",
    "        descriptorVals = [dE]\n",
    "        for col in range(firstDesc, len(descNames)):\n",
    "            descriptorVals.append(float(line[col]))\n",
    "        if databaseID in d:\n",
    "            d[databaseID].append(descriptorVals)\n",
    "        if databaseID not in d:\n",
    "            d[databaseID] = [descriptorVals]"
   ]
  },
  {
   "cell_type": "code",
   "execution_count": 26,
   "metadata": {},
   "outputs": [],
   "source": [
    "## Initialize list to store final Boltzmann averaged descriptors for each molecule\n",
    "Boltzmann = []\n",
    "\n",
    "## Iterate through each molecule and calculate Boltzmann average of descriptors\n",
    "for key,item in d.items():    \n",
    "    ## Initialize list to store e^(-dE/(0.001986*298)) for each conformation\n",
    "    individualList = []\n",
    "    \n",
    "    ## Calculate e^(-dE/(0.001986*298)) for each conformation\n",
    "    for values in item:   \n",
    "        ## save dE value of current conformation\n",
    "        dE = values[0]\n",
    "        \n",
    "        ## add e^(-dE/(0.001986*298)) to list of e^(-dE/(0.001986*298)) and descriptors\n",
    "        individualList.append((math.e)**(-dE/(0.001986*298)))\n",
    "        values.append((math.e)**(-dE/(0.001986*298)))\n",
    "    \n",
    "    ## Sum e^(-dE/(0.001986*298)) results for all conformations\n",
    "    individualSum = sum(individualList)\n",
    "    \n",
    "    ## Initialize a value to calculate sum of weights of all conformations\n",
    "    sumOfSum = 0 \n",
    "    \n",
    "    ## Create empty list to store weighted descriptor values for each conformation\n",
    "    allDescVals = []\n",
    "    \n",
    "    ## Calculate weight and resulting weighted descriptor values for each conformation\n",
    "    for values in item:\n",
    "        ## Initialize list to store weighted descriptor values\n",
    "        descriptorValSums = []\n",
    "        ## Calculate the energy weight of conformation (= conformation e^(-dE/(0.001986*298)) value / sum of e^(-dE/(0.001986*298)) values for all conformations)\n",
    "        weight = values[len(values) - 1]/individualSum\n",
    "        ## Add energy weight of conformation to sum\n",
    "        sumOfSum += weight\n",
    "        \n",
    "        ## Calculate conformation energy-weighted value for each descriptor\n",
    "        for val in range(1, len(values)):\n",
    "            descriptorValSums.append(values[val]*weight)\n",
    "\n",
    "        ## Add weighted descriptor values to list of all molecule conformations\n",
    "        allDescVals.append(descriptorValSums)\n",
    "    \n",
    "         \n",
    "    \n",
    "    ## Create dataframe to store all weighted descriptor values for molecule\n",
    "    dataColumnNames = descNames[firstDesc:len(descNames)]\n",
    "    dataColumnNames.append('Weight') \n",
    "    df = pd.DataFrame(allDescVals, columns = dataColumnNames)\n",
    "    \n",
    "    ## Initialize list to store each Boltzmanned descriptor value for molecule\n",
    "    moleculesBoltzmannedDescriptors = []\n",
    "    moleculesBoltzmannedDescriptors.append(key)\n",
    "    \n",
    "    ## Calculate the Boltzmann average of each descriptor (= sum of conformation weighted descriptor values / sum of conformation weights)\n",
    "    for desc in range(0, len(dataColumnNames)-1):\n",
    "        descBoltzmann = (df[dataColumnNames[desc]].sum())/sumOfSum\n",
    "        moleculesBoltzmannedDescriptors.append(descBoltzmann)\n",
    "    \n",
    "    ## Add Boltzmanned descriptors for molecule to list of final Boltzmanned data\n",
    "    Boltzmann.append(moleculesBoltzmannedDescriptors)"
   ]
  },
  {
   "cell_type": "code",
   "execution_count": 27,
   "metadata": {},
   "outputs": [],
   "source": [
    "## Create heading for output file with Ind and descriptor names\n",
    "finalColNames = ['Ind']\n",
    "finalColNames += descNames[firstDesc:len(descNames)]"
   ]
  },
  {
   "cell_type": "code",
   "execution_count": 28,
   "metadata": {},
   "outputs": [],
   "source": [
    "## Exports all Boltzmanned data to csv file\n",
    "newDF = pd.DataFrame(Boltzmann, columns = finalColNames)\n",
    "newDF.to_csv('TetheringLibraryBoltzmanned3DimDesc.csv')"
   ]
  }
 ],
 "metadata": {
  "kernelspec": {
   "display_name": "Python 3",
   "language": "python",
   "name": "python3"
  },
  "language_info": {
   "codemirror_mode": {
    "name": "ipython",
    "version": 3
   },
   "file_extension": ".py",
   "mimetype": "text/x-python",
   "name": "python",
   "nbconvert_exporter": "python",
   "pygments_lexer": "ipython3",
   "version": "3.7.4"
  }
 },
 "nbformat": 4,
 "nbformat_minor": 2
}
