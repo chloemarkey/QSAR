{
 "cells": [
  {
   "cell_type": "code",
   "execution_count": 51,
   "metadata": {},
   "outputs": [],
   "source": [
    "## Import all necessary packages\n",
    "import rdkit\n",
    "from rdkit import Chem\n",
    "import pandas as pd\n",
    "import rdkit.Chem.rdMolDescriptors\n",
    "import rdkit.Chem.rdchem\n",
    "from rdkit.Chem.Draw import IPythonConsole"
   ]
  },
  {
   "cell_type": "code",
   "execution_count": 52,
   "metadata": {},
   "outputs": [],
   "source": [
    "## Function that assigns an atom ID to each atom in molecule\n",
    "def mol_with_atom_index( mol ):\n",
    "    atoms = mol.GetNumAtoms()\n",
    "    for idx in range( atoms ):\n",
    "        mol.GetAtomWithIdx( idx ).SetProp( 'molAtomMapNumber', str(mol.GetAtomWithIdx( idx ).GetIdx()))\n",
    "    return mol"
   ]
  },
  {
   "cell_type": "code",
   "execution_count": 53,
   "metadata": {},
   "outputs": [],
   "source": [
    "## Define the linear structural pattern\n",
    "patt = Chem.MolFromSmarts('O=CN1CCCCC1')"
   ]
  },
  {
   "cell_type": "code",
   "execution_count": 54,
   "metadata": {},
   "outputs": [],
   "source": [
    "## Read the import file\n",
    "library = pd.read_csv(open('SMILES_nothiol.csv', 'r'))"
   ]
  },
  {
   "cell_type": "code",
   "execution_count": 55,
   "metadata": {},
   "outputs": [],
   "source": [
    "## Create empty list that will be used to check number of molecules with a linear substructure match\n",
    "matchList = []\n",
    "## Create empty list that indicates whether each molecule has a linear substructure match\n",
    "hasLinearPatt = []"
   ]
  },
  {
   "cell_type": "code",
   "execution_count": 56,
   "metadata": {},
   "outputs": [],
   "source": [
    "## Iterate through input library to check each molecule for a linear substructure match\n",
    "for i in library.iterrows():\n",
    "    mol = Chem.MolFromSmiles(i[1]['SMILES No Disulfide, Uncorrected'])\n",
    "    \n",
    "    ## Index molcule and its bonds for substructure search\n",
    "    mol_with_atom_index(mol)\n",
    "    bond_inds = {str(sorted((bond.GetBeginAtomIdx(),bond.GetEndAtomIdx()))):bond.GetIdx() for bond in mol.GetBonds()}\n",
    "    \n",
    "    ## Get molecule's ring information\n",
    "    ri = mol.GetRingInfo()\n",
    "    \n",
    "    ## Create empty list to identify ring systems\n",
    "    lis = []\n",
    "    \n",
    "    ## Create empty list to save substructure matches that meet all pattern criteria\n",
    "    finalMatch = []\n",
    "    \n",
    "    ## Search for one linear shape match in molecule\n",
    "    if len(mol.GetSubstructMatches(patt)) == 1: \n",
    "        \n",
    "        ## Identify piperidine amide and carbonyl carbon of substructure\n",
    "        atoms_in_pip_amide = mol.GetSubstructMatches(patt)[0]\n",
    "        carbonylC = mol.GetAtomWithIdx(atoms_in_pip_amide[1])\n",
    "        \n",
    "        ## Identify atom neighbors of carbonyl carbon\n",
    "        cNeighbors = [x.GetProp('molAtomMapNumber') for x in carbonylC.GetNeighbors()]\n",
    "        \n",
    "        ## Identify non-piperidine amide atom neighbor of carbonyl carbon\n",
    "        for atom in mol.GetAtomWithIdx(atoms_in_pip_amide[1]).GetNeighbors():\n",
    "            if atom.GetIdx() not in atoms_in_pip_amide:\n",
    "                if atom.IsInRing():\n",
    "                    bondOfInterest = [mol.GetBondBetweenAtoms(atom.GetIdx(), carbonylC.GetIdx()).GetIdx()]\n",
    "                    \n",
    "                    ## Fragment molecule on bond between carbonyl carbon and non-piperidine amide atom neighbor\n",
    "                    fragmentedMol = Chem.FragmentOnBonds(mol, bondOfInterest)\n",
    "                    fragments = Chem.rdmolops.GetMolFrags(fragmentedMol, asMols = True)\n",
    "                \n",
    "                    ## Index atoms in each fragment\n",
    "                    for frag in fragments:\n",
    "                        fragIndices = []\n",
    "                        for a in frag.GetAtoms():\n",
    "                            fragIndices.append(a.GetAtomMapNum())\n",
    "                            \n",
    "                            ## Check fragment for ring system\n",
    "                            if ri.NumAtomRings(a.GetAtomMapNum()) == 2:\n",
    "                                lis.append(a)\n",
    "                    \n",
    "                    ## Check if carbonyl neighbor is aromatic or part of a ring system\n",
    "                    if atom.GetIsAromatic() == True:\n",
    "                        finalMatch.append(True)\n",
    "                    elif len(lis) == 2:\n",
    "                        finalMatch.append(True)\n",
    "                        \n",
    "    ## Indicate if molecule has passed linear pattern requirements by sorting into lists\n",
    "    if len(finalMatch) >= 1:\n",
    "        hasLinearPatt.append(True)\n",
    "        matchList.append(True)\n",
    "    else:\n",
    "        hasLinearPatt.append(False)"
   ]
  },
  {
   "cell_type": "code",
   "execution_count": 57,
   "metadata": {},
   "outputs": [
    {
     "name": "stdout",
     "output_type": "stream",
     "text": [
      "287\n"
     ]
    }
   ],
   "source": [
    "## Check number of molecules matching linear pattern\n",
    "print(len(matchList))"
   ]
  },
  {
   "cell_type": "code",
   "execution_count": 8,
   "metadata": {},
   "outputs": [],
   "source": [
    "## Create new column in file indicating linear pattern match status\n",
    "library['LinearMatch'] = hasLinearPatt"
   ]
  },
  {
   "cell_type": "code",
   "execution_count": 9,
   "metadata": {},
   "outputs": [],
   "source": [
    "## Exports all input data plus new column to a csv file\n",
    "library.to_csv('LinearShapeSubstructureFinalMatches.csv',index=False)"
   ]
  }
 ],
 "metadata": {
  "kernelspec": {
   "display_name": "Python 3",
   "language": "python",
   "name": "python3"
  },
  "language_info": {
   "codemirror_mode": {
    "name": "ipython",
    "version": 3
   },
   "file_extension": ".py",
   "mimetype": "text/x-python",
   "name": "python",
   "nbconvert_exporter": "python",
   "pygments_lexer": "ipython3",
   "version": "3.7.4"
  }
 },
 "nbformat": 4,
 "nbformat_minor": 2
}
